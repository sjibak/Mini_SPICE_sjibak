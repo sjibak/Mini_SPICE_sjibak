{
 "cells": [
  {
   "cell_type": "code",
   "execution_count": 1,
   "id": "5f655c74-2b9b-4b86-9eb7-fa803640dd6b",
   "metadata": {
    "tags": []
   },
   "outputs": [
    {
     "name": "stderr",
     "output_type": "stream",
     "text": [
      "2023-10-09 23:49:20.692839: I tensorflow/core/platform/cpu_feature_guard.cc:182] This TensorFlow binary is optimized to use available CPU instructions in performance-critical operations.\n",
      "To enable the following instructions: AVX2 FMA, in other operations, rebuild TensorFlow with the appropriate compiler flags.\n",
      "2023-10-09 23:49:24.076262: W tensorflow/compiler/tf2tensorrt/utils/py_utils.cc:38] TF-TRT Warning: Could not find TensorRT\n"
     ]
    },
    {
     "name": "stdout",
     "output_type": "stream",
     "text": [
      "tensorflow: 2.12.0\n"
     ]
    }
   ],
   "source": [
    "import pandas as pd\n",
    "from torch.utils.data import DataLoader\n",
    "from data_files.dataset import CQT_Dataset_test\n",
    "import torch\n",
    "from utils.model import Spice_model\n",
    "import numpy as np\n",
    "from utils.calibration import Calibrator\n",
    "from utils.calibration2 import Calibrator_SPICE\n",
    "import matplotlib.pyplot as plt\n",
    "import tensorflow as tf\n",
    "import tensorflow_hub as hub\n",
    "\n",
    "import numpy as np\n",
    "import matplotlib.pyplot as plt\n",
    "import librosa\n",
    "from librosa import display as librosadisplay\n",
    "import pandas as pd\n",
    "\n",
    "import logging\n",
    "import math\n",
    "import statistics\n",
    "import sys\n",
    "import random\n",
    "from tqdm import tqdm\n",
    "\n",
    "from IPython.display import Audio, Javascript,display, Math, Latex\n",
    "from scipy.io import wavfile\n",
    "from scipy import stats\n",
    "\n",
    "from base64 import b64decode\n",
    "\n",
    "import music21\n",
    "from pydub import AudioSegment\n",
    "from jupyterplot import ProgressPlot\n",
    "import numpy as np\n",
    "\n",
    "\n",
    "logger = logging.getLogger()\n",
    "logger.setLevel(logging.ERROR)\n",
    "\n",
    "print(\"tensorflow: %s\" % tf.__version__)\n",
    "#print(\"librosa: %s\" % librosa.__version__)"
   ]
  },
  {
   "cell_type": "code",
   "execution_count": 2,
   "id": "03be4e42-c263-4a86-b296-e84bc185a113",
   "metadata": {
    "tags": []
   },
   "outputs": [
    {
     "name": "stdout",
     "output_type": "stream",
     "text": [
      "env: http_proxy=http://proxy:80\n",
      "env: https_proxy=http://proxy:80\n"
     ]
    }
   ],
   "source": [
    "%env http_proxy=http://proxy:80\n",
    "%env https_proxy=http://proxy:80"
   ]
  },
  {
   "cell_type": "markdown",
   "id": "08d0cf4e-6910-4779-bcb6-ee781b19eb9f",
   "metadata": {
    "tags": []
   },
   "source": [
    "# Load Models"
   ]
  },
  {
   "cell_type": "code",
   "execution_count": null,
   "id": "612def55-a211-43a9-9ded-08f1889123af",
   "metadata": {
    "tags": []
   },
   "outputs": [],
   "source": [
    "\n",
    "MiniSPICE = Spice_model([1, 64, 128, 256, 512, 512, 512], [512, 512, 512, 256, 128, 64, 1], [True, True, True, True, True, True])\n",
    "checkpoint = torch.load('./rev_1k_checkpoints/MIR_minispice.ckp', 'cuda' if torch.cuda.is_available() else 'cpu')\n",
    "MiniSPICE.load_state_dict(checkpoint['state_dict'])\n",
    "\n",
    "worecon = Spice_model([1, 64, 128, 256, 512, 512, 512], [512, 512, 512, 256, 128, 64, 1], [True, True, True, True, True, True])\n",
    "checkpoint = torch.load('./rev_1k_checkpoints/wo-recon.ckp', 'cuda' if torch.cuda.is_available() else 'cpu')\n",
    "worecon.load_state_dict(checkpoint['state_dict'])\n",
    "\n",
    "SPICE = hub.load(\"https://tfhub.dev/google/spice/2\")"
   ]
  },
  {
   "cell_type": "markdown",
   "id": "e7fd76f4-6b9d-4fd5-8dae-867f172da5bf",
   "metadata": {
    "tags": []
   },
   "source": [
    "## Calibration"
   ]
  },
  {
   "cell_type": "code",
   "execution_count": null,
   "id": "89ebe439-a59f-431d-b6c8-f3d8ce005653",
   "metadata": {
    "tags": []
   },
   "outputs": [],
   "source": [
    "%%capture\n",
    "MiniSPICE_cal = Calibrator(MiniSPICE, 1000, 110, 440)\n",
    "MiniSPICE_PT_OFFSET, MiniSPICE_PT_SLOPE = MiniSPICE_cal.get_values()\n",
    "MiniSPICE_data, MiniSPICE_A, MiniSPICE_B= MiniSPICE_cal.get_data()\n",
    "# MiniSPICE_x = np.linspace(0.2, 0.7, 50)\n",
    "# MiniSPICE_y = MiniSPICE_PT_OFFSET + MiniSPICE_PT_SLOPE*MiniSPICE_x\n",
    "\n",
    "worecon_cal = Calibrator(worecon, 1000, 110, 440)\n",
    "worecon_PT_OFFSET, worecon_PT_SLOPE = worecon_cal.get_values()\n",
    "worecon_data, worecon_A, worecon_B= worecon_cal.get_data()\n",
    "# worecon_x = np.linspace(0.2, 0.7, 50)\n",
    "# worecon_y = worecon_PT_OFFSET + worecon_PT_SLOPE*worecon_x\n",
    "\n",
    "SPICE_cal = Calibrator_SPICE(SPICE, False,1000)\n",
    "SPICE_PT_OFFSET, SPICE_PT_SLOPE = SPICE_cal.get_values()\n",
    "SPICE_A, SPICE_B= SPICE_cal.get_data()\n",
    "# SPICE_x = np.linspace(0.2, 0.7, 50)\n",
    "# SPICE_y = SPICE_PT_OFFSET + SPICE_PT_SLOPE*SPICE_x"
   ]
  },
  {
   "cell_type": "code",
   "execution_count": null,
   "id": "f1517db7-859b-4626-beb8-fcc0c630d376",
   "metadata": {
    "tags": []
   },
   "outputs": [],
   "source": [
    "SPICE_x = np.linspace(0.2, 0.7, 50)\n",
    "SPICE_y = SPICE_PT_OFFSET + SPICE_PT_SLOPE*SPICE_x\n",
    "worecon_x = np.linspace(0.35, 0.55, 50)\n",
    "worecon_y = worecon_PT_OFFSET + worecon_PT_SLOPE*worecon_x\n",
    "MiniSPICE_x = np.linspace(0.2, 0.35, 50)\n",
    "MiniSPICE_y = MiniSPICE_PT_OFFSET + MiniSPICE_PT_SLOPE*MiniSPICE_x"
   ]
  },
  {
   "cell_type": "markdown",
   "id": "b46c463e-75b9-48b3-b5a3-e3c12823601e",
   "metadata": {
    "tags": []
   },
   "source": [
    "# Understanding Calibration Estimation "
   ]
  },
  {
   "cell_type": "markdown",
   "id": "4e4fb8d3-fde9-4bc1-89b2-e7deed4a4e9a",
   "metadata": {
    "jp-MarkdownHeadingCollapsed": true,
    "tags": []
   },
   "source": [
    "## Progressplot (Not Required)"
   ]
  },
  {
   "cell_type": "code",
   "execution_count": null,
   "id": "7846fd02-5076-4edc-ac4b-9fa306ba4f1b",
   "metadata": {
    "tags": []
   },
   "outputs": [],
   "source": [
    "\n",
    "# pp = ProgressPlot(line_names=[\"SPICE\", \"w/o Recon\", \"Mini-SPICE\"],\n",
    "#                   x_iterator=False, x_label=\"LHS\")\n",
    "SPICE_pp = ProgressPlot(line_names=[\"SPICE\"],\n",
    "                   x_iterator=False, x_label=\"L.H.S\")\n",
    "# worecon_pp = ProgressPlot(line_names=[\"w/o Recon\"],\n",
    "#                    x_iterator=False, x_label=\"LHS\")\n",
    "MiniSPICE_pp = ProgressPlot(line_names=[\"Mini-SPICE\"],\n",
    "                   x_iterator=False, x_label=\"LHS\")\n",
    "SPICE_dict = {}\n",
    "worecon_dict = {}\n",
    "MiniSPICE_dict = {}\n",
    "\n",
    "for i,j,k,l,m,n in zip(SPICE_B.squeeze(),SPICE_A[:,1],\n",
    "                       worecon_B.squeeze(),worecon_A[:,1],\n",
    "                       MiniSPICE_B.squeeze(),MiniSPICE_A[:,1]):\n",
    "    SPICE_dict[j]=i\n",
    "    worecon_dict[l]=k\n",
    "    MiniSPICE_dict[n]=m\n",
    "    \n",
    "SPICE_dict_srt = dict(sorted(SPICE_dict.items(), key=lambda item: item[1]))\n",
    "worecon_dict_srt = dict(sorted(worecon_dict.items(), key=lambda item: item[1]))\n",
    "MiniSPICE_dict_srt = dict(sorted(MiniSPICE_dict.items(), key=lambda item: item[1]))\n",
    "for i,j,k in zip(SPICE_dict_srt.items(),worecon_dict_srt.items(),\n",
    "                      MiniSPICE_dict_srt.items()):\n",
    "    # SPICE_pp.update(i[1], i[0])\n",
    "    # worecon_pp.update(j[1], j[0])\n",
    "    MiniSPICE_pp.update(k[1], k[0])\n",
    "\n",
    "\n",
    "\n",
    "# SPICE_pp.finalize()\n",
    "# worecon_pp.finalize()\n",
    "MiniSPICE_pp.finalize()\n",
    "display(Math(r'L.H.S = 12 \\log _2(\\frac{\\hat{f}_{0, t}}{f_{\\text {base }}})'))\n"
   ]
  },
  {
   "cell_type": "markdown",
   "id": "cf55a56b-2054-4d5f-90d1-b8a19ebf9c79",
   "metadata": {
    "tags": []
   },
   "source": [
    "## Scatter"
   ]
  },
  {
   "cell_type": "code",
   "execution_count": null,
   "id": "7975fffa-9960-4f74-a752-9bc343f0049a",
   "metadata": {
    "tags": []
   },
   "outputs": [],
   "source": [
    "from matplotlib import pyplot as plt\n",
    "\n",
    "plt.scatter(SPICE_A[:,1],SPICE_B.squeeze(), c='red',label='SPICE Datapoints')\n",
    "plt.plot(SPICE_x, SPICE_y, 'lawngreen',linestyle='--',label='SPICE: Estimated Line')\n",
    "plt.scatter(MiniSPICE_A[:,1],MiniSPICE_B.squeeze(), c='blue',label='Mini-SPICE Datapoints')\n",
    "plt.plot(MiniSPICE_x, MiniSPICE_y, 'aqua',linestyle='--',label='Mini-SPICE: Estimated Line')\n",
    "plt.scatter(worecon_A[:,1],worecon_B.squeeze(), c='cyan', label='w/o Recon Datapoints')\n",
    "plt.plot(worecon_x, worecon_y, 'navy',linestyle='--',label='w/o Recon: Estimated Line')\n",
    "plt.xlabel('Pitch Head Output/ Enc(x)')\n",
    "plt.ylabel('Pith Diff from fmin(10Hz) [Semitones]')\n",
    "plt.legend(bbox_to_anchor=(0.9, 0.45))\n",
    "\n",
    "display(Math(r'{X_{\\text {axis }}} = Enc(input)'))\n",
    "display(Math(r'{Y_{\\text {axis }}} = 12 \\log _2(\\frac{\\hat{f}_{0, t}}{f_{\\text {base }}})'))\n"
   ]
  },
  {
   "cell_type": "markdown",
   "id": "5a2577ec-16b5-4f13-9bc7-edb62fa9b389",
   "metadata": {
    "tags": []
   },
   "source": [
    "# Pitch Head vs Frequency"
   ]
  },
  {
   "cell_type": "markdown",
   "id": "42f0a30d-dd5b-4b99-b6c7-fcaa6557a801",
   "metadata": {
    "jp-MarkdownHeadingCollapsed": true,
    "tags": []
   },
   "source": [
    "## Setup"
   ]
  },
  {
   "cell_type": "code",
   "execution_count": null,
   "id": "7777b5ae-9ada-4835-b7df-ac74ff5e5f7a",
   "metadata": {},
   "outputs": [],
   "source": [
    "def pick_semitone_freq(low, high):\n",
    "    semitone_ratio = 2 ** (1/12)\n",
    "    semitone_freq_list = []\n",
    "    \n",
    "    current_freq = low\n",
    "    while current_freq <= high:\n",
    "        semitone_freq_list.append(current_freq)\n",
    "        current_freq *= semitone_ratio\n",
    "    \n",
    "    return random.choice(semitone_freq_list)\n",
    "\n",
    "# pick_semitone_freq(110, 440)\n",
    "\n",
    "def generate_harmonic_wave(fundamental_freq, sampling_rate=16000, N=11, H=512):\n",
    "    amplitude_f0 = np.random.normal(0, 1)\n",
    "    t = np.linspace(0, (N*H) / sampling_rate, (N*H), endpoint=False)\n",
    "    fundamental_signal = amplitude_f0*np.sin(2 * np.pi * fundamental_freq * t)\n",
    "    harmonic_signal = fundamental_signal.copy()\n",
    "    \n",
    "\n",
    "    for i in range(2, 4):  \n",
    "        frequency = fundamental_freq * i\n",
    "        random_phase = random.uniform(0, 2 * math.pi)\n",
    "        harmonic_signal += random.uniform(0, 1) * np.sin(2 * np.pi * frequency * t+random_phase)\n",
    "\n",
    "    return harmonic_signal\n",
    "\n",
    "class Generator():\n",
    "    def __init__(self,M,low=110,high=440):\n",
    "        self.M = M\n",
    "        self.low = low\n",
    "        self.high = high\n",
    "        \n",
    "    def generate(self):\n",
    "        samples = []\n",
    "        labels = []\n",
    "        for i in range(self.M):\n",
    "            f0 = pick_semitone_freq(self.low,self.high)\n",
    "            wave = generate_harmonic_wave(f0)\n",
    "            samples.append(wave)\n",
    "            labels.append(f0)\n",
    "        \n",
    "        return np.array(samples), np.array(labels)"
   ]
  },
  {
   "cell_type": "code",
   "execution_count": null,
   "id": "7025eeae-5345-48fa-a58d-d087fce6a35f",
   "metadata": {
    "tags": []
   },
   "outputs": [],
   "source": [
    "genrator = Generator(1000,20,2000)\n",
    "audio, labels = genrator.generate()"
   ]
  },
  {
   "cell_type": "code",
   "execution_count": null,
   "id": "cb61dfb5-78f4-4cee-abd8-8f395331227c",
   "metadata": {
    "tags": []
   },
   "outputs": [],
   "source": [
    "print(\"******* Generating CQT Samples *******\\n\")\n",
    "Cqtt = np.zeros((1, 190))\n",
    "F0 = np.zeros(1)\n",
    "for s, f in zip(audio, labels):\n",
    "    C = np.abs(librosa.cqt(s, sr=16000, hop_length=512, \n",
    "                fmin= librosa.note_to_hz('C1'),\n",
    "                n_bins=190, bins_per_octave=24))\n",
    "    Cqtt = np.vstack((Cqtt, C.T))\n",
    "    f0 = np.repeat(f, C.shape[1])\n",
    "    F0 = np.concatenate((F0, f0))\n",
    "Cqtt = Cqtt[1:, :]\n",
    "F0 = F0[1:].reshape(-1, 1)\n",
    "Cqt_data = np.hstack((Cqtt, F0))\n",
    "print(\"******* Generating CQT Samples Completed *******\\n\")"
   ]
  },
  {
   "cell_type": "code",
   "execution_count": null,
   "id": "f53c1a63-3a3e-47d1-96c5-575b2872693b",
   "metadata": {
    "tags": []
   },
   "outputs": [],
   "source": [
    "### FOR Mini-SPICE\n",
    "MiniSPICE_pitch_h = np.array([])\n",
    "MiniSPICE_labels= np.array([])\n",
    "for row in tqdm(Cqt_data):\n",
    "    pitch_h1,conf_h1,x_hat1 = MiniSPICE(torch.from_numpy(row[0:128].reshape(1,128)).float())\n",
    "    MiniSPICE_pitch_h = np.append(MiniSPICE_pitch_h, np.array(pitch_h1.detach().numpy()))\n",
    "    MiniSPICE_labels = np.append(MiniSPICE_labels, np.array(row[-1]))"
   ]
  },
  {
   "cell_type": "code",
   "execution_count": null,
   "id": "242937c0-1f62-48af-809e-56c23be610eb",
   "metadata": {
    "tags": []
   },
   "outputs": [],
   "source": [
    "def output2hz(pitch_output):\n",
    "  # Constants taken from https://tfhub.dev/google/spice/2\n",
    "  PT_OFFSET = 25.58\n",
    "  PT_SLOPE = 63.07\n",
    "  FMIN = 10.0;\n",
    "  BINS_PER_OCTAVE = 12.0;\n",
    "  cqt_bin = pitch_output * PT_SLOPE + PT_OFFSET;\n",
    "  return FMIN * 2.0 ** (1.0 * cqt_bin / BINS_PER_OCTAVE)"
   ]
  },
  {
   "cell_type": "code",
   "execution_count": null,
   "id": "5687f7fd-6be5-4c62-a6cc-ece4e1b53eb6",
   "metadata": {
    "tags": []
   },
   "outputs": [],
   "source": [
    "### For SPICE\n",
    "\n",
    "SPICE_pitch_h = np.array([])\n",
    "SPICE_labels= np.array([])\n",
    "for s,f in zip(audio, labels):\n",
    "    # print(s)\n",
    "    model_output = SPICE.signatures[\"serving_default\"](tf.constant(list(s), tf.float32))[\"pitch\"]\n",
    "    pitch_outputs = [ float(x) for x in model_output]\n",
    "    SPICE_pitch_h = np.append(SPICE_pitch_h, np.array(pitch_outputs))\n",
    "    label = [f] * 12\n",
    "    SPICE_labels = np.append(SPICE_labels, np.array(label))"
   ]
  },
  {
   "cell_type": "markdown",
   "id": "6df00b60-cb01-47f6-aaab-5683ed05c303",
   "metadata": {
    "tags": []
   },
   "source": [
    "## Plots"
   ]
  },
  {
   "cell_type": "code",
   "execution_count": null,
   "id": "d2328aa7-ff5c-4e5c-91dd-9813796b6d00",
   "metadata": {
    "tags": []
   },
   "outputs": [],
   "source": [
    "\n",
    "MiniSPICE_x = MiniSPICE_labels\n",
    "MiniSPICE_y = MiniSPICE_pitch_h\n",
    "SPICE_x = SPICE_labels\n",
    "SPICE_y = SPICE_pitch_h\n",
    "SPICE_bins = np.linspace(min(SPICE_x), max(SPICE_x), num=20) \n",
    "SPICE_bin_means, SPICE_bin_edges, SPICE_binnumber = stats.binned_statistic(SPICE_x, SPICE_y, \n",
    "                                                                           statistic='mean', bins=SPICE_bins)\n",
    "\n",
    "MiniSPICE_bins = np.linspace(min(MiniSPICE_x), max(MiniSPICE_x), num=20) \n",
    "MiniSPICE_bin_means, MiniSPICE_bin_edges, MiniSPICE_binnumber = stats.binned_statistic(MiniSPICE_x, MiniSPICE_y, \n",
    "                                                                           statistic='mean', bins=MiniSPICE_bins)\n",
    "plt.plot(SPICE_bin_edges[:-1], SPICE_bin_means,color='g', label='SPICE Outputs')\n",
    "plt.plot(MiniSPICE_bin_edges[:-1], MiniSPICE_bin_means, color='b', label='Mini-SPICE Outputs')\n",
    "# fig, ax = plt.subplots()\n",
    "plt.axvline(x=46.259328, color='r', linestyle='--', label='MDB fmin')\n",
    "# ax.axvline(x=46.259328, color='r', linestyle='--', label='Vertical Line at x=0.5')\n",
    "# plt.text(46.259328,0,'blah',rotation=90)\n",
    "plt.axvline(x=66.9456331525636256, color='c', linestyle='--', label='MIR1k fmin')\n",
    "plt.axvline(x=666.664939769901, color='m', linestyle='--', label='MIR1k fmax')\n",
    "plt.axvline(x=1210.180328, color='y', linestyle='--', label='MDB fmax')\n",
    "plt.xlabel('Frequency in Hz')\n",
    "plt.ylabel('Binwise Mean Pitch Head Output')\n",
    "# plt.title('Frequency Vs. SPICE Pitch Head Output')\n",
    "plt.legend(bbox_to_anchor=(1.0, 0.45))\n",
    "\n",
    "plt.show()"
   ]
  },
  {
   "cell_type": "code",
   "execution_count": null,
   "id": "b2df5814-d524-42f8-be4c-dd96e090821a",
   "metadata": {},
   "outputs": [],
   "source": []
  }
 ],
 "metadata": {
  "kernelspec": {
   "display_name": "spice",
   "language": "python",
   "name": "spice"
  },
  "language_info": {
   "codemirror_mode": {
    "name": "ipython",
    "version": 3
   },
   "file_extension": ".py",
   "mimetype": "text/x-python",
   "name": "python",
   "nbconvert_exporter": "python",
   "pygments_lexer": "ipython3",
   "version": "3.10.9"
  }
 },
 "nbformat": 4,
 "nbformat_minor": 5
}
