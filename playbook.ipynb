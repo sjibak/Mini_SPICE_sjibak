{
 "cells": [
  {
   "cell_type": "markdown",
   "id": "fa5ab8b9-c7cd-4a10-8455-a451fddb6f2f",
   "metadata": {
    "jp-MarkdownHeadingCollapsed": true,
    "tags": []
   },
   "source": [
    "## RPA"
   ]
  },
  {
   "cell_type": "code",
   "execution_count": 1,
   "id": "c88c4a1e-5294-433e-9bec-220611ac1c48",
   "metadata": {
    "tags": []
   },
   "outputs": [],
   "source": [
    "import pandas as pd\n",
    "from utils.model import Spice_Encoder\n",
    "import torch\n",
    "from data_files.dataset import CQT_Dataset\n",
    "from torch.utils.data import DataLoader\n",
    "from data_files.dataloader import MedleyDBLoader, MDBMelodySynthLoader, MIR1KLoader"
   ]
  },
  {
   "cell_type": "code",
   "execution_count": 2,
   "id": "18b92ad0-0f6e-469a-ab06-1f924bac5e36",
   "metadata": {
    "tags": []
   },
   "outputs": [],
   "source": [
    "def output2hz(pitch_output):\n",
    "  # Constants taken from https://tfhub.dev/google/spice/2\n",
    "  PT_OFFSET = 25.58\n",
    "  PT_SLOPE = 63.07\n",
    "  FMIN = 10.0    #why is it 10, not 110?\n",
    "  BINS_PER_OCTAVE = 12.0  \n",
    "  cqt_bin = pitch_output * PT_SLOPE + PT_OFFSET;\n",
    "  return FMIN * 2.0 ** (1.0 * cqt_bin / BINS_PER_OCTAVE)"
   ]
  },
  {
   "cell_type": "code",
   "execution_count": 3,
   "id": "d0333cbd-7709-4c5a-bbda-233903af34a7",
   "metadata": {
    "tags": []
   },
   "outputs": [
    {
     "data": {
      "text/plain": [
       "<All keys matched successfully>"
      ]
     },
     "execution_count": 3,
     "metadata": {},
     "output_type": "execute_result"
    }
   ],
   "source": [
    "import torch\n",
    "from utils.model import Spice_model\n",
    "\n",
    "model = Spice_model([1, 64, 128, 256, 512, 512, 512], [512, 512, 512, 256, 128, 64, 1], [True, True, True, True, True, True])\n",
    "checkpoint = torch.load('./rev_1k_checkpoints/checkpoint_mir_643.ckp', 'cuda' if torch.cuda.is_available() else 'cpu')\n",
    "model.load_state_dict(checkpoint['state_dict'])"
   ]
  },
  {
   "cell_type": "code",
   "execution_count": 4,
   "id": "5c162e68-7389-45c6-8f3b-bda46c809ff4",
   "metadata": {
    "tags": []
   },
   "outputs": [],
   "source": [
    "from data_files.dataloader import MedleyDBLoader, MDBMelodySynthLoader, MIR1KLoader"
   ]
  },
  {
   "cell_type": "code",
   "execution_count": 5,
   "id": "c84f8837-aff2-4dc7-b84d-1bdb3b08c066",
   "metadata": {
    "tags": []
   },
   "outputs": [],
   "source": [
    "pitch_h,conf_h,x_hat = model(torch.randn((10,128)))"
   ]
  },
  {
   "cell_type": "code",
   "execution_count": 15,
   "id": "3aafd3f2-9c83-499a-ab31-6e152fb7c6da",
   "metadata": {
    "tags": []
   },
   "outputs": [
    {
     "name": "stdout",
     "output_type": "stream",
     "text": [
      "(3, 355) (1, 114177)\n"
     ]
    }
   ],
   "source": [
    "fs = 16000\n",
    "mir1k = MIR1KLoader(fs)\n",
    "my_id = 'abjones_1_03'\n",
    "# datasets/MIR-1K-Stem/Wavfile/abjones_1_03.wav\n",
    "x_audio, f0 = mir1k.load_data(my_id)\n",
    "print(f0.shape, x_audio.shape)"
   ]
  },
  {
   "cell_type": "code",
   "execution_count": 16,
   "id": "d14e7f4f-6015-4fb1-8922-95255ba745b3",
   "metadata": {
    "tags": []
   },
   "outputs": [],
   "source": [
    "x_audio = x_audio.squeeze(axis=0)"
   ]
  },
  {
   "cell_type": "code",
   "execution_count": 17,
   "id": "7bac2f89-1243-49b6-923f-19037c1343ff",
   "metadata": {
    "tags": []
   },
   "outputs": [
    {
     "data": {
      "text/plain": [
       "array([0., 0., 0., 0., 0., 0., 0., 0., 0., 0., 0., 1., 1., 1., 1., 1., 1.,\n",
       "       1., 1., 1., 1., 1., 1., 1., 1., 1., 1., 1., 1., 1., 1., 1., 1., 1.,\n",
       "       1., 1., 1., 1., 1., 1., 1., 1., 1., 1., 1., 1., 1., 1., 1., 1., 1.,\n",
       "       1., 1., 1., 1., 1., 1., 1., 1., 1., 0., 1., 1., 1., 1., 1., 1., 1.,\n",
       "       1., 1., 1., 1., 1., 1., 1., 1., 1., 1., 1., 1., 1., 1., 1., 1., 1.,\n",
       "       1., 1., 1., 1., 1., 1., 1., 1., 0., 1., 1., 1., 1., 1., 1., 1., 1.,\n",
       "       1., 1., 1., 1., 1., 1., 1., 1., 1., 1., 1., 1., 1., 1., 1., 1., 1.,\n",
       "       1., 1., 1., 1., 1., 1., 1., 1., 1., 1., 1., 1., 1., 1., 1., 1., 1.,\n",
       "       1., 1., 1., 1., 0., 0., 0., 0., 0., 0., 0., 0., 0., 0., 0., 0., 0.,\n",
       "       0., 0., 0., 0., 0., 0., 0., 0., 0., 0., 0., 0., 0., 0., 0., 0., 0.,\n",
       "       0., 0., 0., 0., 0., 1., 1., 1., 1., 1., 1., 1., 1., 1., 1., 1., 1.,\n",
       "       1., 1., 1., 1., 1., 1., 1., 1., 1., 1., 1., 1., 1., 1., 1., 1., 1.,\n",
       "       1., 1., 1., 1., 1., 1., 1., 1., 1., 1., 1., 1., 1., 1., 1., 1., 1.,\n",
       "       1., 1., 1., 1., 1., 1., 1., 1., 1., 1., 1., 1., 1., 1., 1., 1., 1.,\n",
       "       1., 1., 1., 1., 1., 0., 0., 0., 0., 0., 0., 0., 0., 0., 0., 0., 1.,\n",
       "       1., 1., 1., 1., 1., 1., 1., 1., 1., 1., 1., 1., 1., 1., 1., 1., 1.,\n",
       "       1., 1., 1., 1., 1., 1., 1., 1., 1., 1., 1., 1., 1., 1., 1., 1., 0.,\n",
       "       1., 1., 1., 1., 1., 1., 1., 1., 1., 1., 1., 0., 1., 1., 1., 1., 1.,\n",
       "       1., 1., 1., 1., 1., 1., 1., 1., 1., 1., 1., 1., 1., 1., 1., 1., 1.,\n",
       "       1., 1., 1., 1., 1., 1., 1., 1., 1., 0., 0., 0., 0., 0., 0., 0., 0.,\n",
       "       0., 0., 0., 0., 0., 0., 0., 0., 0., 0., 0., 0., 0., 0., 0.])"
      ]
     },
     "execution_count": 17,
     "metadata": {},
     "output_type": "execute_result"
    },
    {
     "data": {
      "image/png": "[encoded data removed]",
      "text/plain": [
       "<Figure size 640x480 with 1 Axes>"
      ]
     },
     "metadata": {},
     "output_type": "display_data"
    }
   ],
   "source": [
    "audio_samples = x_audio\n",
    "from matplotlib import pyplot as plt\n",
    "_ = plt.plot(audio_samples)\n",
    "\n",
    "f0[1]"
   ]
  },
  {
   "cell_type": "code",
   "execution_count": 18,
   "id": "d94604b3-5864-489d-b09d-6209aa860ac3",
   "metadata": {
    "tags": []
   },
   "outputs": [],
   "source": [
    "def Cqt_song(songs, f0_list):\n",
    "    fs = 16000\n",
    "    hop_len = 512\n",
    "    # Convert to CQT array and concat\n",
    "    Cqtt = np.zeros((1, 190))\n",
    "    voicing_interp = np.zeros(1)\n",
    "    F0_interp = np.zeros(1)\n",
    "    for s, f in zip(songs, f0_list):\n",
    "        C = np.abs(librosa.cqt(s, sr=fs, hop_length=hop_len, \n",
    "                    #window=librosa.filters.get_window('hann', Nx=1024, fftbins=False), \n",
    "                    fmin= librosa.note_to_hz('C1'),\n",
    "                    n_bins=190, bins_per_octave=24))\n",
    "        #print(\"CQT shape: \", C.shape)\n",
    "        Cqtt = np.vstack((Cqtt, C.T))\n",
    "        # interpolate f0 for labels \n",
    "        interpolator = scipy.interpolate.interp1d(x=f[0], y=f[2], axis=0, fill_value = 'extrapolate')\n",
    "        interp_time = np.arange(0, C.shape[1], 1)*hop_len/fs\n",
    "        f0_new = interpolator(interp_time)\n",
    "        F0_interp = np.concatenate((F0_interp, f0_new))\n",
    "        \n",
    "        # interpolate voicing for labels \n",
    "        interpolator_voice = scipy.interpolate.interp1d(x=f[0], y=f[1], axis=0, fill_value = 'extrapolate')\n",
    "        uv_new = interpolator_voice(interp_time)\n",
    "        voicing_interp = np.concatenate((voicing_interp, uv_new))\n",
    "        #print(\"F0 interpolated shape: \", f0_new)data_pd = pd.DataFrame(data=data_np) \n",
    "    #print(\"CQT & F0 Shape: \", Cqtt.shape, F0_interp.shape)\n",
    "    return interp_time, Cqtt, F0_interp, voicing_interp\n",
    "\n",
    "def Cqt_loader_frame(cqt_full):\n",
    "    # return for each Cqt frame\n",
    "    k_min, k_max, F_bins = 0, 8, 128\n",
    "    k_1, k_2 = np.random.randint(k_min, k_max), np.random.randint(k_min, k_max)\n",
    "    # return abs differrence, and two cqt slices of 128 length\n",
    "    return np.abs(k_1 - k_2), cqt_full[k_1: k_1 + F_bins], cqt_full[k_2: k_2 + F_bins]\n",
    "\n",
    "def Cqt_loader(cqt):\n",
    "    s1_list = np.zeros(128)\n",
    "    s2_list = np.zeros(128)\n",
    "    diff_list = np.zeros(1)\n",
    "    for i in range(len(cqt)):\n",
    "        diff, s1, s2 = Cqt_loader_frame(cqt[i, :].squeeze())\n",
    "        s1_list = np.vstack((s1_list, s1))\n",
    "        s2_list = np.vstack((s2_list, s2))\n",
    "        diff_list = np.vstack((diff_list, diff))\n",
    "    \n",
    "    return s1_list[1:], s2_list[1:], diff_list[1:]"
   ]
  },
  {
   "cell_type": "code",
   "execution_count": 29,
   "id": "5fa46c05-4723-44e7-95e7-325d561a97eb",
   "metadata": {
    "tags": []
   },
   "outputs": [
    {
     "name": "stdout",
     "output_type": "stream",
     "text": [
      "Cqt Shape: (225, 190), F0 Interpolated Shape: (225,)\n",
      "Slice shape: (225, 128), Difference shape:(225, 1)\n",
      "(224,) (225,)\n"
     ]
    }
   ],
   "source": [
    "import numpy as np\n",
    "import librosa\n",
    "import scipy\n",
    "t,x,y, vu  = Cqt_song([audio_samples], [f0])\n",
    "print(f'Cqt Shape: {x.shape}, F0 Interpolated Shape: {y.shape}')\n",
    "s1, s2, diff = Cqt_loader(x)\n",
    "print(f'Slice shape: {s1.shape}, Difference shape:{diff.shape}')\n",
    "print(t.shape,y.shape)\n",
    "# def step_func(n, threshold=0.5):\n",
    "#     if n < threshold:\n",
    "#         return 0.\n",
    "#     if n >= threshold:\n",
    "#         return 1.\n",
    "# applyall = np.vectorize(step_func)\n",
    "# res = applyall(vu)\n",
    "\n",
    "# print(\"{}\\n{}\".format(vu,res))  # This will output 1.0"
   ]
  },
  {
   "cell_type": "code",
   "execution_count": 60,
   "id": "3ae95000-d411-4046-9528-c2585b20c040",
   "metadata": {
    "tags": []
   },
   "outputs": [
    {
     "data": {
      "text/plain": [
       "0.0"
      ]
     },
     "execution_count": 60,
     "metadata": {},
     "output_type": "execute_result"
    }
   ],
   "source": [
    "y_hat = np.apply_along_axis(output2hz, 0, pitch_h.detach().numpy())\n",
    "y_hat_cent = np.apply_along_axis(mir_eval.melody.hz2cents, 0, y_hat)\n",
    "y_hat_voice = np.random.randint(2, size=y_hat.shape)\n",
    "y = np.random.uniform(low=40, high=65, size=(10,1)) #extrapolate back to time\n",
    "y_cent = np.apply_along_axis(mir_eval.melody.hz2cents, 0, y)\n",
    "y_voice = np.random.randint(2, size=y.shape)\n",
    "raw_pitch_accuracy = mir_eval.melody.raw_pitch_accuracy(y_voice, y_cent, y_hat_voice, y_hat_cent)\n",
    "raw_pitch_accuracy"
   ]
  },
  {
   "cell_type": "code",
   "execution_count": 28,
   "id": "8e8717f5-d83d-4b01-a7d8-81980bfd3833",
   "metadata": {
    "tags": []
   },
   "outputs": [
    {
     "data": {
      "text/plain": [
       "array([111, 222, 222])"
      ]
     },
     "execution_count": 28,
     "metadata": {},
     "output_type": "execute_result"
    }
   ],
   "source": [
    "aa = np.array([111, 222,222,222,333])\n",
    "bb = np.array([1,0,1,1,0])\n",
    "aa[np.nonzero(aa*bb)]"
   ]
  },
  {
   "cell_type": "code",
   "execution_count": 54,
   "id": "bae71185-9ec2-44bb-8998-f34480667bfb",
   "metadata": {
    "tags": []
   },
   "outputs": [],
   "source": [
    "import mir_eval \n",
    "# raw_pitch_accuracy = mir_eval.melody.raw_pitch_accuracy(y, y_hat)\n",
    "\n",
    "def raw_pitch_accuracy(ground_truth, pred):\n",
    "    pitch_difference = np.abs(ground_truth - pred)\n",
    "    half_semitone_threshold = ground_truth*2 ** (1/24) - ground_truth\n",
    "\n",
    "    error_arr = np.subtract(pitch_difference, half_semitone_threshold)\n",
    "    count_error = (error_arr > 0.0).sum()\n",
    "    print(error_arr)\n",
    "    percentage = (count_error / len(ground_truth)) * 100\n",
    "    return percentage\n"
   ]
  },
  {
   "cell_type": "code",
   "execution_count": 55,
   "id": "e157e21d-266f-4461-8849-cd0f4a206efe",
   "metadata": {
    "tags": []
   },
   "outputs": [
    {
     "name": "stdout",
     "output_type": "stream",
     "text": [
      "[[15.1846428 ]\n",
      " [16.97339592]\n",
      " [26.01562903]\n",
      " [29.50201205]\n",
      " [27.44755152]\n",
      " [13.49949293]\n",
      " [25.61517218]\n",
      " [11.4925144 ]\n",
      " [24.66010954]\n",
      " [27.61804359]]\n"
     ]
    },
    {
     "data": {
      "text/plain": [
       "100.0"
      ]
     },
     "execution_count": 55,
     "metadata": {},
     "output_type": "execute_result"
    }
   ],
   "source": [
    "raw_pitch_accuracy(y,y_hat)"
   ]
  },
  {
   "cell_type": "markdown",
   "id": "ae3dc8e2-b722-491c-9098-889661c0907b",
   "metadata": {
    "jp-MarkdownHeadingCollapsed": true,
    "tags": []
   },
   "source": [
    "## Calibration"
   ]
  },
  {
   "cell_type": "code",
   "execution_count": 1,
   "id": "64b1770b-31f2-4bc5-9f0b-85d2451d0f42",
   "metadata": {
    "tags": []
   },
   "outputs": [],
   "source": [
    "import math\n",
    "import random\n",
    "import numpy as np\n",
    "from IPython.display import Audio\n",
    "def pick_semitone_freq(low, high):\n",
    "    semitone_ratio = 2 ** (1/12)\n",
    "    semitone_freq_list = []\n",
    "    \n",
    "    current_freq = low\n",
    "    while current_freq <= high:\n",
    "        semitone_freq_list.append(current_freq)\n",
    "        current_freq *= semitone_ratio\n",
    "    \n",
    "    return random.choice(semitone_freq_list)\n",
    "\n",
    "# pick_semitone_freq(110, 440)\n",
    "\n",
    "def generate_harmonic_wave(fundamental_freq, sampling_rate=16000, N=11, H=512):\n",
    "    amplitude_f0 = np.random.normal(0, 1)\n",
    "    t = np.linspace(0, (N*H) / sampling_rate, (N*H), endpoint=False)\n",
    "    fundamental_signal = amplitude_f0*np.sin(2 * np.pi * fundamental_freq * t)\n",
    "    harmonic_signal = fundamental_signal.copy()\n",
    "    \n",
    "\n",
    "    for i in range(2, 4):  \n",
    "        frequency = fundamental_freq * i\n",
    "        random_phase = random.uniform(0, 2 * math.pi)\n",
    "        harmonic_signal += random.uniform(0, 1) * np.sin(2 * np.pi * frequency * t+random_phase)\n",
    "\n",
    "    return harmonic_signal"
   ]
  },
  {
   "cell_type": "code",
   "execution_count": 2,
   "id": "5476cfcb-e80e-4827-a6a2-a9eba9bfad78",
   "metadata": {},
   "outputs": [],
   "source": [
    "class Generator():\n",
    "    def __init__(self,M,low=110,high=440):\n",
    "        self.M = M\n",
    "        self.low = low\n",
    "        self.high = high\n",
    "        \n",
    "    def generate(self):\n",
    "        samples = []\n",
    "        labels = []\n",
    "        for i in range(self.M):\n",
    "            f0 = pick_semitone_freq(self.low,self.high)\n",
    "            wave = generate_harmonic_wave(f0)\n",
    "            samples.append(wave)\n",
    "            labels.append(f0)\n",
    "        \n",
    "        return np.array(samples), np.array(labels)\n",
    "    \n",
    "    \n",
    "        "
   ]
  },
  {
   "cell_type": "code",
   "execution_count": 3,
   "id": "a88d995b-9719-42f1-8409-e593d9030345",
   "metadata": {
    "tags": []
   },
   "outputs": [
    {
     "data": {
      "text/plain": [
       "(5632,)"
      ]
     },
     "execution_count": 3,
     "metadata": {},
     "output_type": "execute_result"
    }
   ],
   "source": [
    "import pandas as pd\n",
    "genrator = Generator(5)\n",
    "# my_data_wave = []\n",
    "# my_data_label = []\n",
    "wave, f0 = genrator.generate() #5*11*512\n",
    "# data = np.hstack((wave, f0))\n",
    "# data = pd.DataFrame(data=data)\n",
    "wave[0].shape"
   ]
  },
  {
   "cell_type": "code",
   "execution_count": 4,
   "id": "72134023-c876-4090-8ba5-6caee908381a",
   "metadata": {
    "tags": []
   },
   "outputs": [
    {
     "data": {
      "text/html": [
       "\n",
       "                <audio  controls=\"controls\" >\n",
       "                    <source src=\"data:audio/wav;base64,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\" type=\"audio/wav\" />\n",
       "                    Your browser does not support the audio element.\n",
       "                </audio>\n",
       "              "
      ],
      "text/plain": [
       "<IPython.lib.display.Audio object>"
      ]
     },
     "execution_count": 4,
     "metadata": {},
     "output_type": "execute_result"
    }
   ],
   "source": [
    "Audio(wave[0], rate=16000)"
   ]
  },
  {
   "cell_type": "code",
   "execution_count": 5,
   "id": "73d56408-c851-4b64-a15e-e6f38a25c7e8",
   "metadata": {},
   "outputs": [
    {
     "name": "stderr",
     "output_type": "stream",
     "text": [
      "/home/hpc/iwal/iwal132h/spice/lib/python3.10/site-packages/librosa/core/spectrum.py:256: UserWarning: n_fft=256 is too large for input signal of length=176\n",
      "  warnings.warn(\n",
      "/home/hpc/iwal/iwal132h/spice/lib/python3.10/site-packages/librosa/core/spectrum.py:256: UserWarning: n_fft=256 is too large for input signal of length=88\n",
      "  warnings.warn(\n",
      "/home/hpc/iwal/iwal132h/spice/lib/python3.10/site-packages/librosa/core/spectrum.py:256: UserWarning: n_fft=256 is too large for input signal of length=44\n",
      "  warnings.warn(\n"
     ]
    },
    {
     "data": {
      "text/plain": [
       "(1, 128)"
      ]
     },
     "execution_count": 5,
     "metadata": {},
     "output_type": "execute_result"
    },
    {
     "data": {
      "image/png": "[encoded data removed]",
      "text/plain": [
       "<Figure size 640x480 with 1 Axes>"
      ]
     },
     "metadata": {},
     "output_type": "display_data"
    }
   ],
   "source": [
    "import librosa\n",
    "from matplotlib import pyplot as plt\n",
    "C = np.abs(librosa.cqt(wave[0], sr=16000, hop_length=512, \n",
    "            fmin= librosa.note_to_hz('C1'),\n",
    "            n_bins=190, bins_per_octave=24))\n",
    "plt.pcolormesh(C.T[6:7,0:128])\n",
    "C.T[6:7,0:128].shape"
   ]
  },
  {
   "cell_type": "code",
   "execution_count": 49,
   "id": "2d99769e-1a67-4519-9164-6c589ed36c3b",
   "metadata": {
    "tags": []
   },
   "outputs": [
    {
     "data": {
      "text/plain": [
       "<All keys matched successfully>"
      ]
     },
     "execution_count": 49,
     "metadata": {},
     "output_type": "execute_result"
    }
   ],
   "source": [
    "import torch\n",
    "from utils.model import Spice_model\n",
    "model_mir = Spice_model([1, 64, 128, 256, 512, 512, 512], [512, 512, 512, 256, 128, 64, 1], [True, True, True, True, True, True])\n",
    "checkpoint = torch.load('./rev_1k_checkpoints/checkpoint_MDB_nocnf.ckp', 'cuda' if torch.cuda.is_available() else 'cpu')\n",
    "model_mir.load_state_dict(checkpoint['state_dict'])"
   ]
  },
  {
   "cell_type": "code",
   "execution_count": 50,
   "id": "ce586d01-3938-4075-a4d8-5df234f45ca3",
   "metadata": {
    "tags": []
   },
   "outputs": [],
   "source": [
    "pitch_h1,conf_h1,x_hat1 = model_mir(torch.from_numpy(C.T[6:7,0:128].reshape(1,128)).float())"
   ]
  },
  {
   "cell_type": "code",
   "execution_count": 25,
   "id": "3e845342-130e-4557-9f1c-1d0b0be4727c",
   "metadata": {
    "tags": []
   },
   "outputs": [],
   "source": [
    "mir_test_data = pd.read_pickle(\"./data_test/MIR1k.pkl\") "
   ]
  },
  {
   "cell_type": "code",
   "execution_count": 51,
   "id": "88a629d1-a65c-4a09-bb20-57e8d7dc6744",
   "metadata": {
    "tags": []
   },
   "outputs": [],
   "source": [
    "pitch_h2,conf_h2,x_hat2 = model_mir(torch.from_numpy(mir_test_data.iloc[1:2,1:129].to_numpy().reshape(1,128)).float())"
   ]
  },
  {
   "cell_type": "code",
   "execution_count": 52,
   "id": "a4e23c40-02fd-4b51-ade6-eb9b2f9daa11",
   "metadata": {
    "tags": []
   },
   "outputs": [
    {
     "name": "stdout",
     "output_type": "stream",
     "text": [
      "Model : MDB NoConf\n",
      "Pitch head value Calibration CQT: tensor([[-0.2494]], grad_fn=<AddmmBackward0>)\n",
      "Pitch head value Real Data CQT: tensor([[2.2172]], grad_fn=<AddmmBackward0>)\n"
     ]
    }
   ],
   "source": [
    "print(\"Model : MDB NoConf\")\n",
    "print(\"Pitch head value Calibration CQT: {}\\nPitch head value Real Data CQT: {}\".format(pitch_h1,pitch_h2))"
   ]
  },
  {
   "cell_type": "code",
   "execution_count": 7,
   "id": "268521fc-8d2c-4501-bf50-17eb1c26d734",
   "metadata": {
    "tags": []
   },
   "outputs": [
    {
     "name": "stderr",
     "output_type": "stream",
     "text": [
      "/home/hpc/iwal/iwal132h/spice/lib/python3.10/site-packages/librosa/core/spectrum.py:256: UserWarning: n_fft=256 is too large for input signal of length=176\n",
      "  warnings.warn(\n",
      "/home/hpc/iwal/iwal132h/spice/lib/python3.10/site-packages/librosa/core/spectrum.py:256: UserWarning: n_fft=256 is too large for input signal of length=88\n",
      "  warnings.warn(\n",
      "/home/hpc/iwal/iwal132h/spice/lib/python3.10/site-packages/librosa/core/spectrum.py:256: UserWarning: n_fft=256 is too large for input signal of length=44\n",
      "  warnings.warn(\n"
     ]
    },
    {
     "name": "stdout",
     "output_type": "stream",
     "text": [
      "CQT & F0 Shape:  (60, 190) (60, 1)\n"
     ]
    },
    {
     "data": {
      "text/plain": [
       "<matplotlib.collections.QuadMesh at 0x7f97949d54e0>"
      ]
     },
     "execution_count": 7,
     "metadata": {},
     "output_type": "execute_result"
    },
    {
     "data": {
      "image/png": "[encoded data removed]",
      "text/plain": [
       "<Figure size 640x480 with 1 Axes>"
      ]
     },
     "metadata": {},
     "output_type": "display_data"
    }
   ],
   "source": [
    "import librosa\n",
    "from matplotlib import pyplot as plt\n",
    "Cqtt = np.zeros((1, 190))\n",
    "F0 = np.zeros(1)\n",
    "for s, f in zip(wave, f0):\n",
    "    C = np.abs(librosa.cqt(s, sr=16000, hop_length=512, \n",
    "                fmin= librosa.note_to_hz('C1'),\n",
    "                n_bins=190, bins_per_octave=24))\n",
    "    Cqtt = np.vstack((Cqtt, C.T))\n",
    "    f0 = np.repeat(f, C.shape[1])\n",
    "    F0 = np.concatenate((F0, f0))\n",
    "Cqtt = Cqtt[1:, :]\n",
    "F0 = F0[1:].reshape(-1, 1)\n",
    "print(\"CQT & F0 Shape: \", Cqtt.shape, F0.shape)\n",
    "data_np = np.hstack((Cqtt, F0))\n",
    "df_original = pd.DataFrame(data=data_np)\n",
    "plt.pcolormesh(Cqtt.T)"
   ]
  },
  {
   "cell_type": "code",
   "execution_count": 8,
   "id": "b251669f-c132-4c1a-8ace-7212f3704d57",
   "metadata": {
    "tags": []
   },
   "outputs": [],
   "source": [
    "import torch\n",
    "from utils.model import Spice_model"
   ]
  },
  {
   "cell_type": "code",
   "execution_count": 9,
   "id": "5a7bed1e-c39b-448d-bbe2-4b2c6ce1a524",
   "metadata": {
    "tags": []
   },
   "outputs": [
    {
     "data": {
      "text/plain": [
       "<All keys matched successfully>"
      ]
     },
     "execution_count": 9,
     "metadata": {},
     "output_type": "execute_result"
    }
   ],
   "source": [
    "c"
   ]
  },
  {
   "cell_type": "markdown",
   "id": "55d50a5b-7960-49cc-833e-3c56ed5abce3",
   "metadata": {
    "tags": []
   },
   "source": [
    "### Using MIR for Calibration"
   ]
  },
  {
   "cell_type": "code",
   "execution_count": 83,
   "id": "3be7f39f-55bd-4df0-910b-fa90d32db203",
   "metadata": {
    "tags": []
   },
   "outputs": [],
   "source": [
    "mir_test_data = pd.read_pickle(\"./data_test/MIR1k.pkl\") "
   ]
  },
  {
   "cell_type": "code",
   "execution_count": 29,
   "id": "e8f72944-5c0a-4e9e-a5fd-6a23ee7cacb6",
   "metadata": {
    "tags": []
   },
   "outputs": [],
   "source": [
    "mir_test_data#[mir_test_data.iloc[:,191:192]==1]\n",
    "voiced_mir = mir_test_data[(mir_test_data[191]==1)&\n",
    "                           ((mir_test_data[192]>110)&\n",
    "                            (mir_test_data[192]<440))].sample(100)\n",
    "# Cqtt =voiced_mir.iloc[:,1:129].to_numpy()\n",
    "# F0 = voiced_mir.iloc[:,192:].to_numpy()\n",
    "# data_np = np.hstack((Cqtt, F0))\n",
    "# data_np.shape\n",
    "data_np_mir = voiced_mir.to_numpy()\n",
    "# for row in data_np:\n",
    "#     print(row[0:128].reshape(1,128), row[-1])\n",
    "# voiced_mir.iloc[:,1:129]"
   ]
  },
  {
   "cell_type": "markdown",
   "id": "9e57da97-e0aa-4bc1-86fc-a6486e81f795",
   "metadata": {
    "tags": []
   },
   "source": [
    "### Continue"
   ]
  },
  {
   "cell_type": "code",
   "execution_count": 11,
   "id": "cdcc7e88-df47-4fb0-8564-cadf881c4411",
   "metadata": {
    "tags": []
   },
   "outputs": [
    {
     "name": "stderr",
     "output_type": "stream",
     "text": [
      "100%|██████████| 60/60 [00:00<00:00, 94.66it/s]\n"
     ]
    },
    {
     "data": {
      "text/plain": [
       "[47.51317942364757,\n",
       " 42.513179423647564,\n",
       " 49.513179423647586,\n",
       " 59.51317942364758,\n",
       " 56.51317942364757]"
      ]
     },
     "execution_count": 11,
     "metadata": {},
     "output_type": "execute_result"
    }
   ],
   "source": [
    "from tqdm import tqdm\n",
    "A = []\n",
    "B = []\n",
    "for row in tqdm(data_np):\n",
    "    pitch_h1,conf_h1,x_hat1 = model_mir(torch.from_numpy(row[0:128].reshape(1,128)).float())\n",
    "    coeff_x = [1,pitch_h1.detach().numpy()[0][0]]\n",
    "    y = 12*math.log(row[-1]/10,2)\n",
    "    A.append(coeff_x)\n",
    "    B.append(y)\n",
    "    eq = \"b + s*{} = {}\".format(pitch_h1.detach().numpy()[0][0], 12*math.log(row[-1]/10,2))\n",
    "\n",
    "A[6::12]\n",
    "B[6::12] "
   ]
  },
  {
   "cell_type": "code",
   "execution_count": 17,
   "id": "4c8ad637-a7a3-4b99-9da0-09f2fe2c07d7",
   "metadata": {
    "tags": []
   },
   "outputs": [
    {
     "name": "stdout",
     "output_type": "stream",
     "text": [
      "0.0 0.0\n"
     ]
    },
    {
     "data": {
      "text/plain": [
       "0.0"
      ]
     },
     "execution_count": 17,
     "metadata": {},
     "output_type": "execute_result"
    }
   ],
   "source": [
    "import numpy as np\n",
    "\n",
    "A = np.array(A[6::12])\n",
    "B = np.array(B[6::12])\n",
    "\n",
    "x, residuals, rank, singular_values = np.linalg.lstsq(A, B, rcond=None)\n",
    "np.set_printoptions(suppress=True)\n",
    "b,s = x[0],x[1] \n",
    "print(b,s) \n",
    "b + s*-0.11623091995716095 "
   ]
  },
  {
   "cell_type": "code",
   "execution_count": 23,
   "id": "8608b3c2-efa3-4443-b0b6-7a7faefcfa7f",
   "metadata": {
    "tags": []
   },
   "outputs": [],
   "source": [
    "from matplotlib import pyplot as plt"
   ]
  },
  {
   "cell_type": "code",
   "execution_count": 61,
   "id": "045424d1-2150-4241-b03c-a7d59962d868",
   "metadata": {
    "tags": []
   },
   "outputs": [
    {
     "data": {
      "text/plain": [
       "array([64.51317942, 46.51317942, 58.51317942, 45.51317942, 58.51317942])"
      ]
     },
     "execution_count": 71,
     "metadata": {},
     "output_type": "execute_result"
    }
   ],
   "source": [
    "B"
   ]
  },
  {
   "cell_type": "code",
   "execution_count": 13,
   "id": "1a312290-fa4b-468e-a294-941e336831c0",
   "metadata": {
    "tags": []
   },
   "outputs": [
    {
     "data": {
      "text/plain": [
       "<matplotlib.collections.PathCollection at 0x7f96d9d87df0>"
      ]
     },
     "execution_count": 13,
     "metadata": {},
     "output_type": "execute_result"
    },
    {
     "data": {
      "image/png": "[encoded data removed]",
      "text/plain": [
       "<Figure size 640x480 with 1 Axes>"
      ]
     },
     "metadata": {},
     "output_type": "display_data"
    }
   ],
   "source": [
    "# A[:,1:]\n",
    "# B\n",
    "# b.shape\n",
    "plt.scatter(A[:,1:],B)"
   ]
  },
  {
   "cell_type": "code",
   "execution_count": null,
   "id": "7c8c7027-fb96-4b43-ad0a-17fc3907b566",
   "metadata": {},
   "outputs": [],
   "source": []
  }
 ],
 "metadata": {
  "kernelspec": {
   "display_name": "spice",
   "language": "python",
   "name": "spice"
  },
  "language_info": {
   "codemirror_mode": {
    "name": "ipython",
    "version": 3
   },
   "file_extension": ".py",
   "mimetype": "text/x-python",
   "name": "python",
   "nbconvert_exporter": "python",
   "pygments_lexer": "ipython3",
   "version": "3.10.9"
  }
 },
 "nbformat": 4,
 "nbformat_minor": 5
}
