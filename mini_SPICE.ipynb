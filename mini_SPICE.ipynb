{
 "cells": [
  {
   "cell_type": "markdown",
   "id": "d7027b66-3949-4b21-98ba-5416eedeadd2",
   "metadata": {
    "tags": []
   },
   "source": [
    "# <span style=\"color:red\">To get this notebook working  all 'Mini_SPICE/' need to removed from paths and also module imports with 'Mini_SPICE' need to be removed as well.</span>\n",
    "\n",
    "This notebook was previously in /home/hpc/iwal/iwal132h/ location"
   ]
  },
  {
   "cell_type": "code",
   "execution_count": 6,
   "id": "a21c3341-1df6-4c9c-b7ac-ccfe104ef8db",
   "metadata": {
    "tags": []
   },
   "outputs": [
    {
     "name": "stderr",
     "output_type": "stream",
     "text": [
      "2023-10-09 19:42:12.713752: I tensorflow/tsl/cuda/cudart_stub.cc:28] Could not find cuda drivers on your machine, GPU will not be used.\n",
      "2023-10-09 19:42:12.753707: I tensorflow/tsl/cuda/cudart_stub.cc:28] Could not find cuda drivers on your machine, GPU will not be used.\n",
      "2023-10-09 19:42:12.755174: I tensorflow/core/platform/cpu_feature_guard.cc:182] This TensorFlow binary is optimized to use available CPU instructions in performance-critical operations.\n",
      "To enable the following instructions: AVX2 FMA, in other operations, rebuild TensorFlow with the appropriate compiler flags.\n",
      "2023-10-09 19:42:16.460690: W tensorflow/compiler/tf2tensorrt/utils/py_utils.cc:38] TF-TRT Warning: Could not find TensorRT\n"
     ]
    },
    {
     "name": "stdout",
     "output_type": "stream",
     "text": [
      "tensorflow: 2.12.0\n"
     ]
    }
   ],
   "source": [
    "import tensorflow as tf\n",
    "import tensorflow_hub as hub\n",
    "\n",
    "import numpy as np\n",
    "import matplotlib.pyplot as plt\n",
    "import librosa\n",
    "from librosa import display as librosadisplay\n",
    "import pandas as pd\n",
    "\n",
    "import logging\n",
    "import math\n",
    "import statistics\n",
    "import sys\n",
    "\n",
    "from IPython.display import Audio, Javascript\n",
    "from scipy.io import wavfile\n",
    "\n",
    "from base64 import b64decode\n",
    "\n",
    "import music21\n",
    "from pydub import AudioSegment\n",
    "\n",
    "logger = logging.getLogger()\n",
    "logger.setLevel(logging.ERROR)\n",
    "\n",
    "print(\"tensorflow: %s\" % tf.__version__)\n",
    "#print(\"librosa: %s\" % librosa.__version__)"
   ]
  },
  {
   "cell_type": "markdown",
   "id": "8e9797c8-bc23-42bd-9f64-508daeef57f0",
   "metadata": {
    "tags": []
   },
   "source": [
    "# Load Data SPICE"
   ]
  },
  {
   "cell_type": "markdown",
   "id": "cf34cd19-5e8d-4679-9cf0-1abe175d0fef",
   "metadata": {
    "jp-MarkdownHeadingCollapsed": true,
    "tags": []
   },
   "source": [
    "## Load from Scratch"
   ]
  },
  {
   "cell_type": "code",
   "execution_count": null,
   "id": "9e438a80-bbfa-4812-9ca2-f91ee2167bcf",
   "metadata": {
    "tags": []
   },
   "outputs": [],
   "source": [
    "from Mini_SPICE.data_files.dataloader import MedleyDBLoader, MIR1KLoader"
   ]
  },
  {
   "cell_type": "code",
   "execution_count": null,
   "id": "c28f65f3-cf5d-4d2b-b106-1a2c1a016e06",
   "metadata": {
    "tags": []
   },
   "outputs": [],
   "source": [
    "mdb_loader = MedleyDBLoader(fs=16000, audio_loc=\"Mini_SPICE/datasets/MedleyDB/Audio\", f0_loc=\"Mini_SPICE/datasets/MedleyDB/Pitch_Annotations\", annot_hop=256, orig_fs=44100)\n",
    "mir_loader = MIR1KLoader(fs=16000, audio_loc=\"Mini_SPICE/datasets/MIR-1K/Wavfile\", f0_loc=\"Mini_SPICE/datasets/MIR-1K/PitchLabel\",voiced_loc=\"Mini_SPICE/datasets/MIR-1K/vocal-nonvocalLabel\", annot_hop=320, orig_fs=16000)"
   ]
  },
  {
   "cell_type": "code",
   "execution_count": null,
   "id": "8f3f6d09-1369-4c0b-a7e0-0e99e8665d3b",
   "metadata": {
    "tags": []
   },
   "outputs": [
    {
     "name": "stdout",
     "output_type": "stream",
     "text": [
      "Cannot load song HezekiahJones_BorrowedHeart_STEM_10 because The item cannot be loaded due to an annotation length mismatch.\n"
     ]
    }
   ],
   "source": [
    "# MDB_id_list = mdb_loader.get_ids()\n",
    "MDB_id_list = mdb_loader.get_ids()\n",
    "\n",
    "# load audio\n",
    "songs = []\n",
    "f0_list = []\n",
    "foo = []\n",
    "for i, s in enumerate(MDB_id_list):\n",
    "    try:\n",
    "        song, f0 = mdb_loader.load_data(s)\n",
    "        # print(song.shape, f0.shape)\n",
    "        # convert stereo to mono\n",
    "        songs.append(librosa.to_mono(song))\n",
    "        f0_list.append(f0)\n",
    "        foo = np.concatenate((foo, f0[2]), axis=0)\n",
    "    except AssertionError as e:\n",
    "        print(\"Cannot load song {} because {}\".format(s, e))"
   ]
  },
  {
   "cell_type": "code",
   "execution_count": null,
   "id": "8e71262f-6035-46b4-8539-4b9b7e0127e3",
   "metadata": {
    "tags": []
   },
   "outputs": [
    {
     "name": "stderr",
     "output_type": "stream",
     "text": [
      "/tmp/ipykernel_711636/3440550660.py:1: VisibleDeprecationWarning: Creating an ndarray from ragged nested sequences (which is a list-or-tuple of lists-or-tuples-or ndarrays with different lengths or shapes) is deprecated. If you meant to do this, you must specify 'dtype=object' when creating the ndarray.\n",
      "  songs_np = np.array(songs)\n"
     ]
    }
   ],
   "source": [
    "songs_np = np.array(songs)"
   ]
  },
  {
   "cell_type": "code",
   "execution_count": null,
   "id": "138b4a8d-f6f8-4562-9909-89ebec0a3f88",
   "metadata": {
    "tags": []
   },
   "outputs": [
    {
     "name": "stderr",
     "output_type": "stream",
     "text": [
      "/tmp/ipykernel_711636/483349314.py:10: VisibleDeprecationWarning: Creating an ndarray from ragged nested sequences (which is a list-or-tuple of lists-or-tuples-or ndarrays with different lengths or shapes) is deprecated. If you meant to do this, you must specify 'dtype=object' when creating the ndarray.\n",
      "  Time = np.array(Time)\n",
      "/tmp/ipykernel_711636/483349314.py:11: VisibleDeprecationWarning: Creating an ndarray from ragged nested sequences (which is a list-or-tuple of lists-or-tuples-or ndarrays with different lengths or shapes) is deprecated. If you meant to do this, you must specify 'dtype=object' when creating the ndarray.\n",
      "  Voicing = np.array(Voicing)\n",
      "/tmp/ipykernel_711636/483349314.py:12: VisibleDeprecationWarning: Creating an ndarray from ragged nested sequences (which is a list-or-tuple of lists-or-tuples-or ndarrays with different lengths or shapes) is deprecated. If you meant to do this, you must specify 'dtype=object' when creating the ndarray.\n",
      "  Label = np.array(Label)\n"
     ]
    }
   ],
   "source": [
    "# import pandas as pd\n",
    "# df = pd.DataFrame(f0_list, columns=[\"Time\", \"Voicing\", \"Label\"])\n",
    "Time = []\n",
    "Voicing = []\n",
    "Label = []\n",
    "for f in f0_list:\n",
    "    Time.append(f[0])\n",
    "    Voicing.append(f[1])\n",
    "    Label.append(f[2])\n",
    "Time = np.array(Time)\n",
    "Voicing = np.array(Voicing)\n",
    "Label = np.array(Label)    "
   ]
  },
  {
   "cell_type": "code",
   "execution_count": null,
   "id": "8a8c7224-fcee-4d67-a079-53a8d704bf89",
   "metadata": {
    "tags": []
   },
   "outputs": [
    {
     "name": "stderr",
     "output_type": "stream",
     "text": [
      "/tmp/ipykernel_711636/3678673902.py:1: VisibleDeprecationWarning: Creating an ndarray from ragged nested sequences (which is a list-or-tuple of lists-or-tuples-or ndarrays with different lengths or shapes) is deprecated. If you meant to do this, you must specify 'dtype=object' when creating the ndarray.\n",
      "  data_mdb = np.vstack((np.array(songs), Time,Voicing,Label))\n"
     ]
    }
   ],
   "source": [
    "data_mdb = np.vstack((np.array(songs), Time,Voicing,Label))"
   ]
  },
  {
   "cell_type": "code",
   "execution_count": null,
   "id": "63f222fd-0933-48d6-ab3d-225fcddfafc8",
   "metadata": {
    "tags": []
   },
   "outputs": [],
   "source": [
    "mdb_df = pd.DataFrame(data_mdb.T)\n",
    "mdb_df.to_pickle('Mini_SPICE/data_test/MedleyDB_audio.pkl')"
   ]
  },
  {
   "cell_type": "markdown",
   "id": "60a4dc35-c3ef-4fac-84c2-d1d7c87d6cee",
   "metadata": {
    "jp-MarkdownHeadingCollapsed": true,
    "tags": []
   },
   "source": [
    "## Load from Dataframe (Use This)"
   ]
  },
  {
   "cell_type": "code",
   "execution_count": 3,
   "id": "36f75b23-1fc0-4281-ba89-1a8d2a34c324",
   "metadata": {
    "tags": []
   },
   "outputs": [],
   "source": [
    "mir_df_read = pd.read_pickle('data_test/MIR_audio.pkl')\n",
    "mdb_df_read = pd.read_pickle('data_test/MedleyDB_audio.pkl')"
   ]
  },
  {
   "cell_type": "code",
   "execution_count": 4,
   "id": "3e753dd2-4bdf-4004-9688-13e71c14c27a",
   "metadata": {
    "tags": []
   },
   "outputs": [],
   "source": [
    "mir_songs = mir_df_read.iloc[:,:1].to_numpy().reshape(1000,)\n",
    "mir_f0_list = mir_df_read.iloc[:,1:4].to_numpy().reshape(1000,3)"
   ]
  },
  {
   "cell_type": "code",
   "execution_count": 5,
   "id": "00ed7248-d1de-495a-940e-3960b597c5c3",
   "metadata": {
    "tags": []
   },
   "outputs": [],
   "source": [
    "mdb_songs = mdb_df_read.iloc[:,:1].to_numpy().reshape(64,)\n",
    "mdb_f0_list = mdb_df_read.iloc[:,1:4].to_numpy().reshape(64,3)"
   ]
  },
  {
   "cell_type": "markdown",
   "id": "e0864529-5a83-471c-a947-774cb5c037b6",
   "metadata": {
    "tags": []
   },
   "source": [
    "## Load Datagen"
   ]
  },
  {
   "cell_type": "markdown",
   "id": "a64e2e72-4282-4bc7-979c-55bd03b5e9e9",
   "metadata": {
    "jp-MarkdownHeadingCollapsed": true,
    "tags": []
   },
   "source": [
    "### From datagen"
   ]
  },
  {
   "cell_type": "code",
   "execution_count": 1,
   "id": "c240b9f6-c0df-48ac-bfe5-04f4e71316e4",
   "metadata": {
    "tags": []
   },
   "outputs": [],
   "source": [
    "from Mini_SPICE.data_files.dataloader import DatagenLoader"
   ]
  },
  {
   "cell_type": "code",
   "execution_count": 2,
   "id": "85c7b17e-c506-4bc0-a7b2-98670cae6963",
   "metadata": {
    "tags": []
   },
   "outputs": [],
   "source": [
    "datagen_loader = DatagenLoader(fs=16000, audio_loc=\"Mini_SPICE/datasets/latest/wavfile\", f0_loc=\"Mini_SPICE/datasets/latest/labels\", annot_hop=256, orig_fs=44100)"
   ]
  },
  {
   "cell_type": "code",
   "execution_count": null,
   "id": "67fedab5-b988-4d1b-9120-a5dcadfe8da3",
   "metadata": {
    "tags": []
   },
   "outputs": [],
   "source": [
    "datagen_ids = datagen_loader.get_ids()"
   ]
  },
  {
   "cell_type": "code",
   "execution_count": 4,
   "id": "ac7d4b40-e387-4e36-9566-449bda870cb4",
   "metadata": {
    "tags": []
   },
   "outputs": [],
   "source": [
    "# x, f = datagen_loader.load_data('latest_40')"
   ]
  },
  {
   "cell_type": "code",
   "execution_count": null,
   "id": "e3a8edfe-5721-4b9e-b2bb-75950d246833",
   "metadata": {
    "tags": []
   },
   "outputs": [
    {
     "name": "stdout",
     "output_type": "stream",
     "text": [
      "602 602\n",
      "602 602\n",
      "1003 1003\n",
      "1003 1003\n",
      "337 337\n",
      "602 602\n",
      "446 446\n",
      "337 337\n",
      "337 337\n",
      "1003 1003\n",
      "602 602\n",
      "1003 1003\n",
      "337 337\n",
      "845 845\n",
      "673 673\n",
      "602 602\n",
      "845 845\n",
      "337 337\n",
      "673 673\n",
      "673 673\n",
      "673 673\n",
      "673 673\n",
      "1003 1003\n",
      "673 673\n",
      "1003 1003\n",
      "1003 1003\n",
      "510 510\n",
      "1003 1003\n",
      "845 845\n",
      "337 337\n",
      "602 602\n",
      "845 845\n",
      "510 510\n",
      "602 602\n",
      "337 337\n",
      "673 673\n",
      "845 845\n",
      "845 845\n",
      "337 337\n",
      "845 845\n",
      "673 673\n",
      "673 673\n",
      "1003 1003\n",
      "673 673\n",
      "510 510\n",
      "845 845\n",
      "523 523\n",
      "1003 1003\n",
      "510 510\n",
      "337 337\n",
      "673 673\n",
      "845 845\n",
      "337 337\n",
      "1003 1003\n",
      "510 510\n",
      "510 510\n",
      "673 673\n",
      "845 845\n",
      "1003 1003\n",
      "510 510\n",
      "242 242\n",
      "1003 1003\n",
      "602 602\n",
      "510 510\n",
      "845 845\n",
      "602 602\n",
      "1003 1003\n",
      "337 337\n",
      "337 337\n",
      "510 510\n",
      "673 673\n",
      "1003 1003\n",
      "673 673\n",
      "602 602\n",
      "602 602\n",
      "337 337\n",
      "602 602\n",
      "602 602\n",
      "510 510\n",
      "673 673\n",
      "337 337\n",
      "358 358\n",
      "337 337\n",
      "845 845\n",
      "510 510\n",
      "602 602\n",
      "512 512\n",
      "1003 1003\n",
      "510 510\n",
      "510 510\n",
      "510 510\n",
      "510 510\n",
      "300 300\n",
      "510 510\n",
      "510 510\n",
      "337 337\n",
      "602 602\n",
      "337 337\n",
      "510 510\n",
      "845 845\n"
     ]
    }
   ],
   "source": [
    "\n",
    "# load audio\n",
    "songs = []\n",
    "f0_list = []\n",
    "for i, s in enumerate(datagen_ids):\n",
    "    try:\n",
    "        song, f0 = datagen_loader.load_data(s)\n",
    "        # print(song.shape, f0.shape)\n",
    "        # convert stereo to mono\n",
    "        # songs.append(librosa.to_mono(song))\n",
    "        songs.append(song)\n",
    "        f0_list.append(f0)\n",
    "        # foo = np.concatenate((foo, f0[2]), axis=0)\n",
    "    except AssertionError as e:\n",
    "        print(\"Cannot load song {} because {}\".format(s, e))"
   ]
  },
  {
   "cell_type": "code",
   "execution_count": null,
   "id": "083a1a4f-84e2-48b0-a793-bb0f1c84f788",
   "metadata": {
    "tags": []
   },
   "outputs": [],
   "source": [
    "songs_datagen = [song.reshape(len(song[0]),) for song in songs]\n",
    "# f0_list_datagen = [f0.T for f0 in f0_list]"
   ]
  },
  {
   "cell_type": "markdown",
   "id": "8acb0536-a402-4933-89f5-a8305d724034",
   "metadata": {
    "tags": []
   },
   "source": [
    "### From Cal (Includes pitch head vs freq plots)"
   ]
  },
  {
   "cell_type": "code",
   "execution_count": 1,
   "id": "c593ec0a-bf37-4c4e-a47d-3ee76d1c36da",
   "metadata": {},
   "outputs": [],
   "source": [
    "import math\n",
    "import random\n",
    "import numpy as np\n",
    "from IPython.display import Audio\n",
    "def pick_semitone_freq(low, high):\n",
    "    semitone_ratio = 2 ** (1/12)\n",
    "    semitone_freq_list = []\n",
    "    \n",
    "    current_freq = low\n",
    "    while current_freq <= high:\n",
    "        semitone_freq_list.append(current_freq)\n",
    "        current_freq *= semitone_ratio\n",
    "    \n",
    "    return random.choice(semitone_freq_list)\n",
    "\n",
    "# pick_semitone_freq(110, 440)\n",
    "\n",
    "def generate_harmonic_wave(fundamental_freq, sampling_rate=16000, N=11, H=512):\n",
    "    amplitude_f0 = np.random.normal(0, 1)\n",
    "    t = np.linspace(0, (N*H) / sampling_rate, (N*H), endpoint=False)\n",
    "    fundamental_signal = amplitude_f0*np.sin(2 * np.pi * fundamental_freq * t)\n",
    "    harmonic_signal = fundamental_signal.copy()\n",
    "    \n",
    "\n",
    "    for i in range(2, 4):  \n",
    "        frequency = fundamental_freq * i\n",
    "        random_phase = random.uniform(0, 2 * math.pi)\n",
    "        harmonic_signal += random.uniform(0, 1) * np.sin(2 * np.pi * frequency * t+random_phase)\n",
    "\n",
    "    return harmonic_signal\n",
    "\n",
    "class Generator():\n",
    "    def __init__(self,M,low=110,high=440):\n",
    "        self.M = M\n",
    "        self.low = low\n",
    "        self.high = high\n",
    "        \n",
    "    def generate(self):\n",
    "        samples = []\n",
    "        labels = []\n",
    "        for i in range(self.M):\n",
    "            f0 = pick_semitone_freq(self.low,self.high)\n",
    "            wave = generate_harmonic_wave(f0)\n",
    "            samples.append(wave)\n",
    "            labels.append(f0)\n",
    "        \n",
    "        return np.array(samples), np.array(labels)"
   ]
  },
  {
   "cell_type": "code",
   "execution_count": 2,
   "id": "8da39734-06f4-4116-98f5-c8d9933fb4eb",
   "metadata": {},
   "outputs": [],
   "source": [
    "import pandas as pd\n",
    "genrator = Generator(1000,20,2000)\n",
    "wave, f0 = genrator.generate()"
   ]
  },
  {
   "cell_type": "code",
   "execution_count": 27,
   "id": "84be91d2-cf38-4ab6-9805-edc0cc0b6a23",
   "metadata": {
    "tags": []
   },
   "outputs": [
    {
     "name": "stdout",
     "output_type": "stream",
     "text": [
      "******* Generating CQT Samples *******\n",
      "\n",
      "******* Generating CQT Samples Completed *******\n",
      "\n"
     ]
    }
   ],
   "source": [
    "import librosa\n",
    "print(\"******* Generating CQT Samples *******\\n\")\n",
    "Cqtt = np.zeros((1, 190))\n",
    "F0 = np.zeros(1)\n",
    "for s, f in zip(wave, f0):\n",
    "    C = np.abs(librosa.cqt(s, sr=16000, hop_length=512, \n",
    "                fmin= librosa.note_to_hz('C1'),\n",
    "                n_bins=190, bins_per_octave=24))\n",
    "    Cqtt = np.vstack((Cqtt, C.T))\n",
    "    f0 = np.repeat(f, C.shape[1])\n",
    "    F0 = np.concatenate((F0, f0))\n",
    "Cqtt = Cqtt[1:, :]\n",
    "F0 = F0[1:].reshape(-1, 1)\n",
    "data = np.hstack((Cqtt, F0))\n",
    "print(\"******* Generating CQT Samples Completed *******\\n\")"
   ]
  },
  {
   "cell_type": "code",
   "execution_count": 28,
   "id": "85fe4cff-8899-4ce7-8f17-25c63586bb84",
   "metadata": {
    "tags": []
   },
   "outputs": [
    {
     "name": "stderr",
     "output_type": "stream",
     "text": [
      "100%|██████████| 12000/12000 [00:54<00:00, 221.46it/s]\n"
     ]
    }
   ],
   "source": [
    "### FOR Mini-SPICE\n",
    "import mir_eval\n",
    "from tqdm import tqdm\n",
    "pitch_h = np.array([])\n",
    "labels= np.array([])\n",
    "for row in tqdm(data):\n",
    "    pitch_h1,conf_h1,x_hat1 = model(torch.from_numpy(row[0:128].reshape(1,128)).float())\n",
    "    pitch_h = np.append(pitch_h, np.array(pitch_h1.detach().numpy()))\n",
    "    labels = np.append(labels, np.array(row[-1]))"
   ]
  },
  {
   "cell_type": "code",
   "execution_count": 9,
   "id": "e87e04fd-8245-4037-9b15-0172eb4f9513",
   "metadata": {},
   "outputs": [],
   "source": [
    "### For SPICE\n",
    "\n",
    "pitch_h = np.array([])\n",
    "dataset_pitch_output= np.array([])\n",
    "labels= np.array([])\n",
    "dataset_voice_original=dataset_voice_pred= np.array([1]*12000)\n",
    "for s,f in zip(wave, f0):\n",
    "    model_output = model_hub.signatures[\"serving_default\"](tf.constant(list(s), tf.float32))[\"pitch\"]\n",
    "    pitch_outputs = [ float(x) for x in model_output]\n",
    "    pitch_h = np.append(pitch_h, np.array(pitch_outputs))\n",
    "    pitch_outputs_hz = [output2hz(x) for x in pitch_outputs]\n",
    "    label = [f] * 12\n",
    "    dataset_pitch_output = np.append(dataset_pitch_output, np.array(pitch_outputs_hz))\n",
    "    labels = np.append(labels, np.array(label))\n",
    "    \n",
    "    # print(pitch_outputs)\n",
    "    \n"
   ]
  },
  {
   "cell_type": "code",
   "execution_count": 11,
   "id": "df1c623d-22bc-4c3b-b8ff-35bf5a0bc2eb",
   "metadata": {
    "tags": []
   },
   "outputs": [
    {
     "data": {
      "text/plain": [
       "array([0.1244099 , 0.02902767, 0.02656386, ..., 0.73676836, 0.73653406,\n",
       "       0.74009955])"
      ]
     },
     "execution_count": 11,
     "metadata": {},
     "output_type": "execute_result"
    }
   ],
   "source": [
    "pitch_h"
   ]
  },
  {
   "cell_type": "code",
   "execution_count": 12,
   "id": "31f50729-b5a6-404c-b54d-c81e981812ee",
   "metadata": {},
   "outputs": [
    {
     "data": {
      "image/png": "[encoded data removed]",
      "text/plain": [
       "<Figure size 640x480 with 1 Axes>"
      ]
     },
     "metadata": {
      "image/png": {
       "height": 432,
       "width": 567
      }
     },
     "output_type": "display_data"
    }
   ],
   "source": [
    "# plt.plot(labels,pitch_h)\n",
    "from scipy import stats\n",
    "from matplotlib import pyplot as plt\n",
    "x = labels\n",
    "y = pitch_h\n",
    "bins = np.linspace(min(x), max(x), num=20) \n",
    "bin_means, bin_edges, binnumber = stats.binned_statistic(x, y, statistic='mean', bins=bins)\n",
    "# plt.axvline(x=0.22058956)\n",
    "plt.plot(bin_edges[:-1], bin_means)\n",
    "# fig, ax = plt.subplots()\n",
    "plt.axvline(x=46.259328, color='r', linestyle='--', label='MDB fmin')\n",
    "# ax.axvline(x=46.259328, color='r', linestyle='--', label='Vertical Line at x=0.5')\n",
    "# plt.text(46.259328,0,'blah',rotation=90)\n",
    "plt.axvline(x=66.9456331525636256, color='c', linestyle='--', label='MIR1k fmin')\n",
    "plt.axvline(x=666.664939769901, color='m', linestyle='--', label='MIR1k fmax')\n",
    "plt.axvline(x=1210.180328, color='y', linestyle='--', label='MDB fmax')\n",
    "plt.xlabel('Frequency in Hz')\n",
    "plt.ylabel('Binwise Mean Pitch Head Output')\n",
    "# plt.title('Frequency Vs. SPICE Pitch Head Output')\n",
    "plt.legend(bbox_to_anchor=(1.0, 0.45))\n",
    "\n",
    "plt.show()"
   ]
  },
  {
   "cell_type": "markdown",
   "id": "a65dfe62-5406-4823-97b4-d3f86f385c82",
   "metadata": {
    "tags": []
   },
   "source": [
    "# Own Model"
   ]
  },
  {
   "cell_type": "code",
   "execution_count": 25,
   "id": "5094ba06-8472-439b-8432-53ad2a1a8e45",
   "metadata": {
    "tags": []
   },
   "outputs": [
    {
     "data": {
      "text/plain": [
       "<All keys matched successfully>"
      ]
     },
     "execution_count": 25,
     "metadata": {},
     "output_type": "execute_result"
    }
   ],
   "source": [
    "import pandas as pd\n",
    "from torch.utils.data import DataLoader\n",
    "from Mini_SPICE.data_files.dataset import CQT_Dataset_test\n",
    "import torch\n",
    "from Mini_SPICE.utils.model import Spice_model\n",
    "import numpy as np\n",
    "from Mini_SPICE.utils.calibration import Calibrator\n",
    "model = Spice_model([1, 64, 128, 256, 512, 512, 512], [512, 512, 512, 256, 128, 64, 1], [True, True, True, True, True, True])\n",
    "checkpoint = torch.load('Mini_SPICE/rev_1k_checkpoints/MIR_minispice.ckp', 'cuda' if torch.cuda.is_available() else 'cpu')\n",
    "model.load_state_dict(checkpoint['state_dict'])"
   ]
  },
  {
   "cell_type": "markdown",
   "id": "3c306d1d-2062-46fd-a9e1-a9a33ec0e01f",
   "metadata": {
    "tags": []
   },
   "source": [
    "# Load Hub Model - SPICE"
   ]
  },
  {
   "cell_type": "markdown",
   "id": "d2347d2b-896f-46e2-ba13-c668c17037a9",
   "metadata": {
    "tags": []
   },
   "source": [
    "## Exeute this to get SPICE prediction"
   ]
  },
  {
   "cell_type": "code",
   "execution_count": 4,
   "id": "736593d0-0131-4cd6-8866-01902778d543",
   "metadata": {
    "tags": []
   },
   "outputs": [
    {
     "name": "stdout",
     "output_type": "stream",
     "text": [
      "env: http_proxy=http://proxy:80\n",
      "env: https_proxy=http://proxy:80\n"
     ]
    }
   ],
   "source": [
    "%env http_proxy=http://proxy:80\n",
    "%env https_proxy=http://proxy:80"
   ]
  },
  {
   "cell_type": "code",
   "execution_count": null,
   "id": "dd4b47aa-e14d-4fb9-bd8b-d930571ae92a",
   "metadata": {
    "tags": []
   },
   "outputs": [],
   "source": [
    "# Loading the SPICE model is easy:\n",
    "model_hub = hub.load(\"https://tfhub.dev/google/spice/2\")"
   ]
  },
  {
   "cell_type": "code",
   "execution_count": 8,
   "id": "cc21f96c-7209-42fe-804a-2d7952a796d0",
   "metadata": {
    "tags": []
   },
   "outputs": [],
   "source": [
    "def output2hz(pitch_output):\n",
    "  # Constants taken from https://tfhub.dev/google/spice/2\n",
    "  PT_OFFSET = 25.58\n",
    "  PT_SLOPE = 63.07\n",
    "  FMIN = 10.0;\n",
    "  BINS_PER_OCTAVE = 12.0;\n",
    "  cqt_bin = pitch_output * PT_SLOPE + PT_OFFSET;\n",
    "  return FMIN * 2.0 ** (1.0 * cqt_bin / BINS_PER_OCTAVE)\n",
    "def step_func(n, threshold=0.5):\n",
    "    if n < threshold:\n",
    "        return 0.\n",
    "    if n >= threshold:\n",
    "        return 1.\n",
    "    \n",
    "applyall = np.vectorize(step_func)"
   ]
  },
  {
   "cell_type": "code",
   "execution_count": 16,
   "id": "fe89d506-e2b7-49fe-aaec-1a324cdfc7ea",
   "metadata": {
    "tags": []
   },
   "outputs": [],
   "source": [
    "import scipy \n",
    "from tqdm import tqdm\n",
    "\n",
    "def get_SPICE_pred(songs, f0_list, model):\n",
    "    MAX_ABS_INT16 = 32768.0\n",
    "    dataset_pitch_head_output = np.array([])\n",
    "    dataset_pitch_output = np.array([])\n",
    "    dataset_voice_original = np.array([])\n",
    "    dataset_voice_pred = np.array([])\n",
    "    labels =  np.array([])\n",
    "\n",
    "    for s, f in tqdm(zip(songs, f0_list)):\n",
    "        s = s / float(MAX_ABS_INT16)\n",
    "        model_output = model.signatures[\"serving_default\"](tf.constant(list(s), tf.float32))\n",
    "        pitch_outputs = model_output[\"pitch\"]\n",
    "        uncertainty_outputs = model_output[\"uncertainty\"]\n",
    "        confidence_outputs = 1.0 - uncertainty_outputs\n",
    "        # confidence_outputs = applyall(confidence_outputs)\n",
    "        confidence_outputs = list(confidence_outputs)\n",
    "\n",
    "        dataset_voice_pred = np.append(dataset_voice_pred, applyall(np.array(confidence_outputs)))\n",
    "        pitch_outputs = [ float(x) for x in pitch_outputs]\n",
    "        indices = range(len (pitch_outputs))\n",
    "        dataset_pitch_head_output = np.append(dataset_pitch_head_output,np.array(pitch_outputs))\n",
    "        pitch_outputs_and_rests = [output2hz(p) for i, p, c in \n",
    "                                   zip(indices, pitch_outputs, confidence_outputs)]\n",
    "        dataset_pitch_output = np.append(dataset_pitch_output,np.array(pitch_outputs_and_rests))\n",
    "\n",
    "        inter_f = scipy.interpolate.interp1d(x=f[0], y=f[2], axis=0, fill_value=\"extrapolate\")\n",
    "        t_pred_f = np.arange(0, len(pitch_outputs_and_rests), 1)*512/16000\n",
    "        f_interpolated = inter_f(t_pred_f)\n",
    "        labels = np.append(labels,f_interpolated)\n",
    "\n",
    "        inter_voice = scipy.interpolate.interp1d(x=f[0], y=f[1], axis=0, fill_value=\"extrapolate\")\n",
    "        t_pred_v = np.arange(0, len(confidence_outputs), 1)*512/16000\n",
    "        voicing_interpolated = inter_voice(t_pred_v)\n",
    "\n",
    "        voicing_interpolated = applyall(voicing_interpolated)\n",
    "        dataset_voice_original = np.append(dataset_voice_original, voicing_interpolated)\n",
    "    \n",
    "    assert dataset_pitch_head_output.shape==dataset_pitch_output.shape==dataset_voice_original.shape==dataset_voice_pred.shape==labels.shape, \"All arrays must be same shape\"\n",
    "        \n",
    "    return dataset_pitch_head_output, dataset_pitch_output, dataset_voice_original, dataset_voice_pred, labels\n",
    "    \n",
    "    "
   ]
  },
  {
   "cell_type": "code",
   "execution_count": 17,
   "id": "73947e8a-0c85-4fe1-865b-27de01c4ea58",
   "metadata": {
    "tags": []
   },
   "outputs": [
    {
     "name": "stderr",
     "output_type": "stream",
     "text": [
      "1000it [06:50,  2.44it/s]\n"
     ]
    }
   ],
   "source": [
    "pitch_outputs, dataset_pitch_output, dataset_voice_original, dataset_voice_pred, labels = get_SPICE_pred(mir_songs, mir_f0_list, model_hub)"
   ]
  },
  {
   "cell_type": "code",
   "execution_count": null,
   "id": "e39f188f-a2ac-4213-ae1c-d9aba8130833",
   "metadata": {
    "tags": []
   },
   "outputs": [],
   "source": [
    "# execute this if datagen is ised\n",
    "def get_SPICE_pred_datagen(songs, f0_list):\n",
    "    MAX_ABS_INT16 = 32768.0\n",
    "    dataset_pitch_head_output = np.array([])\n",
    "    dataset_pitch_output = np.array([])\n",
    "    dataset_voice_original = np.array([])\n",
    "    dataset_voice_pred = np.array([])\n",
    "    labels =  np.array([])\n",
    "\n",
    "    for s, f in tqdm(zip(songs, f0_list)):\n",
    "        print(f.shape)"
   ]
  },
  {
   "cell_type": "code",
   "execution_count": null,
   "id": "647caa32-e154-43c2-ac3e-fb5f2bb8b54f",
   "metadata": {
    "tags": []
   },
   "outputs": [
    {
     "name": "stderr",
     "output_type": "stream",
     "text": [
      "0it [00:00, ?it/s]\n"
     ]
    }
   ],
   "source": [
    "# get_SPICE_pred_datagen(mir_songs, mir_f0_list)\n",
    "get_SPICE_pred_datagen(songs, f0_list)"
   ]
  },
  {
   "cell_type": "markdown",
   "id": "8bc16d3c-3b4a-4bfe-b5fb-029181682fff",
   "metadata": {
    "jp-MarkdownHeadingCollapsed": true,
    "tags": []
   },
   "source": [
    "## Jump to RPA"
   ]
  },
  {
   "cell_type": "markdown",
   "id": "8c114642-c119-433f-8694-142cd7cc7dbf",
   "metadata": {
    "jp-MarkdownHeadingCollapsed": true,
    "tags": []
   },
   "source": [
    "# On one item (Skip)"
   ]
  },
  {
   "cell_type": "code",
   "execution_count": null,
   "id": "d8b65ed4-dd76-485b-862d-c41d33b0e940",
   "metadata": {
    "tags": []
   },
   "outputs": [
    {
     "name": "stderr",
     "output_type": "stream",
     "text": [
      "2023-09-14 13:14:56.139214: I tensorflow/compiler/xla/stream_executor/cuda/cuda_dnn.cc:424] Loaded cuDNN version 8903\n",
      "2023-09-14 13:14:56.642674: I tensorflow/tsl/platform/default/subprocess.cc:304] Start cannot spawn child process: No such file or directory\n"
     ]
    }
   ],
   "source": [
    "model_output = model.signatures[\"serving_default\"](tf.constant(single_ch_audio, tf.float32))\n",
    "pitch_outputs = model_output[\"pitch\"]\n",
    "uncertainty_outputs = model_output[\"uncertainty\"]\n",
    "# 'Uncertainty' basically means the inverse of confidence.\n",
    "confidence_outputs = 1.0 - uncertainty_outputs"
   ]
  },
  {
   "cell_type": "code",
   "execution_count": null,
   "id": "4cbd0848-d512-45ff-9bc2-bd1c270933c1",
   "metadata": {
    "tags": []
   },
   "outputs": [],
   "source": [
    "confidence_outputs = list(confidence_outputs)\n",
    "pitch_outputs = [ float(x) for x in pitch_outputs]\n",
    "indices = range(len (pitch_outputs))\n",
    "confident_pitch_outputs = [ (i,p)  \n",
    "  for i, p, c in zip(indices, pitch_outputs, confidence_outputs) if  c >= 0.9  ]\n",
    "confident_pitch_outputs_x, confident_pitch_outputs_y = zip(*confident_pitch_outputs)"
   ]
  },
  {
   "cell_type": "code",
   "execution_count": null,
   "id": "b2238e1d-d6e5-47e0-bc28-82073db86b58",
   "metadata": {
    "tags": []
   },
   "outputs": [],
   "source": [
    "def output2hz(pitch_output):\n",
    "  # Constants taken from https://tfhub.dev/google/spice/2\n",
    "  PT_OFFSET = 25.58\n",
    "  PT_SLOPE = 63.07\n",
    "  FMIN = 10.0;\n",
    "  BINS_PER_OCTAVE = 12.0;\n",
    "  cqt_bin = pitch_output * PT_SLOPE + PT_OFFSET;\n",
    "  return FMIN * 2.0 ** (1.0 * cqt_bin / BINS_PER_OCTAVE)\n",
    "    \n",
    "confident_pitch_values_hz = [ output2hz(p) for p in confident_pitch_outputs_y ]"
   ]
  },
  {
   "cell_type": "code",
   "execution_count": null,
   "id": "7f6efc18-6c66-48c5-8e82-3b88a7bf6383",
   "metadata": {
    "tags": []
   },
   "outputs": [],
   "source": [
    "pitch_outputs_and_rests = [\n",
    "    output2hz(p) if c >= 0.9 else 0\n",
    "    for i, p, c in zip(indices, pitch_outputs, confidence_outputs)\n",
    "]"
   ]
  },
  {
   "cell_type": "code",
   "execution_count": null,
   "id": "6c530c7c-87ed-480d-97fd-9bbbf94f3933",
   "metadata": {
    "tags": []
   },
   "outputs": [
    {
     "data": {
      "text/plain": [
       "(5358, (3, 29534))"
      ]
     },
     "execution_count": 17,
     "metadata": {},
     "output_type": "execute_result"
    }
   ],
   "source": [
    "len(pitch_outputs_and_rests), f0.shape"
   ]
  },
  {
   "cell_type": "code",
   "execution_count": null,
   "id": "cb064544-fcd3-4c49-8053-fb6dfcc7888a",
   "metadata": {
    "tags": []
   },
   "outputs": [],
   "source": [
    "import scipy \n",
    "inter_f0 = scipy.interpolate.interp1d(x=f0[0], y=f0[2], axis=0, fill_value=\"extrapolate\")\n",
    "t_pred = np.arange(0, len(pitch_outputs_and_rests), 1)*512/16000\n",
    "f0_interpolated = inter_f0(t_pred)\n",
    "\n",
    "inter_voice = scipy.interpolate.interp1d(x=f0[0], y=f0[1], axis=0, fill_value=\"extrapolate\")\n",
    "t_pred = np.arange(0, len(pitch_outputs_and_rests), 1)*512/16000\n",
    "voicing_interpolated = inter_voice(t_pred)"
   ]
  },
  {
   "cell_type": "code",
   "execution_count": null,
   "id": "79222e83-20d1-4c8e-9f89-48d0a62b4e15",
   "metadata": {
    "tags": []
   },
   "outputs": [
    {
     "data": {
      "text/plain": [
       "2310.0"
      ]
     },
     "execution_count": 41,
     "metadata": {},
     "output_type": "execute_result"
    }
   ],
   "source": [
    "# f0_interpolated.shape\n",
    "def step_func(n, threshold=0.5):\n",
    "    if n < threshold:\n",
    "        return 0.\n",
    "    if n >= threshold:\n",
    "        return 1.\n",
    "applyall = np.vectorize(step_func)\n",
    "voicing_interpolated = applyall(voicing_interpolated)\n",
    "voicing_interpolated.sum()"
   ]
  },
  {
   "cell_type": "code",
   "execution_count": null,
   "id": "deaa8d70-7a2b-4ca2-96a3-d6163d95f04c",
   "metadata": {
    "tags": []
   },
   "outputs": [],
   "source": [
    "pitch_outputs_and_rests = np.array(pitch_outputs_and_rests)"
   ]
  },
  {
   "cell_type": "code",
   "execution_count": 63,
   "id": "e18da9d2-c08d-453f-af6a-165f8539ab40",
   "metadata": {
    "tags": []
   },
   "outputs": [],
   "source": [
    "# len(frequency), len(mir_f0_list[999][2])\n",
    "# dataset_pitch_output, dataset_voice_original, dataset_voice_pred, labels = get_CREPE_pred(mdb_songs, mdb_f0_list)\n",
    "#25, 38,52,61"
   ]
  },
  {
   "cell_type": "code",
   "execution_count": 19,
   "id": "9cf3e439-7f70-40c5-988a-bea8059f9106",
   "metadata": {
    "tags": []
   },
   "outputs": [
    {
     "name": "stdout",
     "output_type": "stream",
     "text": [
      "11/11 [==============================] - 0s 32ms/step\n"
     ]
    }
   ],
   "source": [
    "time, frequency, confidence, activation = crepe.predict(mir_songs[24], 16000, viterbi=True, step_size=20)\n",
    "inter_f = scipy.interpolate.interp1d(x=mir_f0_list[24][0], y=mir_f0_list[24][2], axis=0, fill_value=\"extrapolate\")\n",
    "t_pred_f = np.arange(0, len(frequency), 1)*512/16000\n",
    "f_interpolated = inter_f(t_pred_f)"
   ]
  },
  {
   "cell_type": "markdown",
   "id": "a142b3dd-5770-413c-bd95-327b5d2a2a46",
   "metadata": {
    "jp-MarkdownHeadingCollapsed": true,
    "tags": []
   },
   "source": [
    "# RPA"
   ]
  },
  {
   "cell_type": "code",
   "execution_count": 19,
   "id": "4b87223a-08a7-48df-b307-1960a86093bd",
   "metadata": {
    "tags": []
   },
   "outputs": [
    {
     "data": {
      "text/plain": [
       "((251092,), (251092,), (251092,), (251092,))"
      ]
     },
     "execution_count": 19,
     "metadata": {},
     "output_type": "execute_result"
    }
   ],
   "source": [
    "dataset_pitch_output.shape, dataset_voice_original.shape, dataset_voice_pred.shape, labels.shape"
   ]
  },
  {
   "cell_type": "code",
   "execution_count": 20,
   "id": "0c0055e5-ff3a-451a-89d8-1750f766e380",
   "metadata": {
    "tags": []
   },
   "outputs": [],
   "source": [
    "import mir_eval\n",
    "def RPA_on_dataset(dataset_pitch_output, dataset_voice_original, dataset_voice_pred, labels):\n",
    "    y_hat_cent = np.apply_along_axis(mir_eval.melody.hz2cents, 0, dataset_pitch_output)\n",
    "    y_hat_voice = dataset_voice_pred\n",
    "    y = labels\n",
    "    y_cent = np.apply_along_axis(mir_eval.melody.hz2cents, 0, y)\n",
    "    y_voice = dataset_voice_original\n",
    "    raw_pitch_accuracy = mir_eval.melody.raw_pitch_accuracy(y_voice, y_cent, y_hat_voice, y_hat_cent)\n",
    "\n",
    "    return raw_pitch_accuracy"
   ]
  },
  {
   "cell_type": "markdown",
   "id": "17c4093e-3db2-4af7-b2ab-9c5defe2fb24",
   "metadata": {},
   "source": [
    "## Final RPA"
   ]
  },
  {
   "cell_type": "code",
   "execution_count": 21,
   "id": "d23d5edc-2f76-4018-bd14-11e6e817bb86",
   "metadata": {
    "tags": []
   },
   "outputs": [
    {
     "name": "stdout",
     "output_type": "stream",
     "text": [
      "0.8583289657355467\n"
     ]
    }
   ],
   "source": [
    "print(RPA_on_dataset(dataset_pitch_output, dataset_voice_original, dataset_voice_pred, labels))"
   ]
  }
 ],
 "metadata": {
  "kernelspec": {
   "display_name": "spice",
   "language": "python",
   "name": "spice"
  },
  "language_info": {
   "codemirror_mode": {
    "name": "ipython",
    "version": 3
   },
   "file_extension": ".py",
   "mimetype": "text/x-python",
   "name": "python",
   "nbconvert_exporter": "python",
   "pygments_lexer": "ipython3",
   "version": "3.10.9"
  }
 },
 "nbformat": 4,
 "nbformat_minor": 5
}
